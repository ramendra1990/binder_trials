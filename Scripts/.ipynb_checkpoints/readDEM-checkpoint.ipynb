{
 "cells": [
  {
   "cell_type": "code",
   "execution_count": null,
   "id": "0c14f19c-9058-476f-8214-79082194f7f5",
   "metadata": {},
   "outputs": [],
   "source": [
    "from osgeo import gdal\n",
    "import matplotlib.pyplot as plt"
   ]
  },
  {
   "cell_type": "code",
   "execution_count": null,
   "id": "27167591-2a19-4811-b47c-030ec85750fe",
   "metadata": {},
   "outputs": [],
   "source": [
    "dem = gdal.Open(\"../Data/mola128_mola64_merge_90Nto90S_SimpleC_clon0_5000m_bilinear.tif\")"
   ]
  },
  {
   "cell_type": "code",
   "execution_count": null,
   "id": "cf341778-ebf5-41d7-8bb0-cab42429f122",
   "metadata": {},
   "outputs": [],
   "source": [
    "dem_ar = dem.ReadAsArray()"
   ]
  },
  {
   "cell_type": "code",
   "execution_count": null,
   "id": "1cd9f2aa-f67c-4fda-b66a-16e2e16cd239",
   "metadata": {},
   "outputs": [],
   "source": [
    "size_DEM = dem_ar.shape"
   ]
  },
  {
   "cell_type": "code",
   "execution_count": null,
   "id": "8b0997dc-e256-43f9-b09d-6ea87a5a0b4e",
   "metadata": {},
   "outputs": [],
   "source": [
    "size_DEM"
   ]
  },
  {
   "cell_type": "code",
   "execution_count": null,
   "id": "dc4ea59e-1645-4cad-b46c-bfaf78ad85aa",
   "metadata": {},
   "outputs": [],
   "source": [
    "plt.imshow(dem_ar)"
   ]
  },
  {
   "cell_type": "code",
   "execution_count": null,
   "id": "e283e55d-a2c8-4818-9492-c0a4f5a816ea",
   "metadata": {},
   "outputs": [],
   "source": [
    "%load_ext watermark\n",
    "\n",
    "%watermark -v -m -p osgeo,matplotlib,watermark,richdem\n",
    "print(\"\")\n",
    "%watermark -u -n -t -z"
   ]
  },
  {
   "cell_type": "code",
   "execution_count": null,
   "id": "496873a0-735e-493d-bff4-2bd0cf581269",
   "metadata": {},
   "outputs": [],
   "source": []
  }
 ],
 "metadata": {
  "kernelspec": {
   "display_name": "Python 3 (ipykernel)",
   "language": "python",
   "name": "python3"
  },
  "language_info": {
   "codemirror_mode": {
    "name": "ipython",
    "version": 3
   },
   "file_extension": ".py",
   "mimetype": "text/x-python",
   "name": "python",
   "nbconvert_exporter": "python",
   "pygments_lexer": "ipython3",
   "version": "3.12.8"
  }
 },
 "nbformat": 4,
 "nbformat_minor": 5
}
