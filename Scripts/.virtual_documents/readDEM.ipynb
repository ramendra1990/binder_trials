from osgeo import gdal
import matplotlib.pyplot as plt


dem = gdal.Open("../Data/mola128_mola64_merge_90Nto90S_SimpleC_clon0_5000m_bilinear.tif")


dem_ar = dem.ReadAsArray()


size_DEM = dem_ar.shape


size_DEM


plt.imshow(dem_ar)


%load_ext watermark

%watermark -v -m -p osgeo,matplotlib,watermark,richdem
print("")
%watermark -u -n -t -z



